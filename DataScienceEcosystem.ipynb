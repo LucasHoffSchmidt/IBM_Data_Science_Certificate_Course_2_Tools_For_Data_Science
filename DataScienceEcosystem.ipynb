{
 "cells": [
  {
   "cell_type": "markdown",
   "id": "d3735d6d-1a50-462e-8db9-628ea4ade8d7",
   "metadata": {},
   "source": [
    "# Data Science Tools and Ecosystem"
   ]
  },
  {
   "cell_type": "markdown",
   "id": "8a66badc-a220-4a1b-bfb1-55c0bfb63cbc",
   "metadata": {},
   "source": [
    "#### The purpose of this notebook is to give a summary of Data Science Tools and Ecosystem"
   ]
  },
  {
   "cell_type": "markdown",
   "id": "8df2eee3-fb33-421c-b438-25927d99706e",
   "metadata": {},
   "source": [
    "**Objectives:**\n",
    "- List popular languages in Data Science\n",
    "- List commonly used libraries used by Data Scientists\n",
    "- Make a table of open source development environment tools used in data science\n",
    "- Make an arithmetic expression using multiplication\n",
    "- Make an arithmetic expression using division"
   ]
  },
  {
   "cell_type": "markdown",
   "id": "60ff27d1-57ff-4776-80cf-424386fd2d61",
   "metadata": {},
   "source": [
    "## Some of the popular languages that Data Scientists use are:\n",
    "1. Python\n",
    "2. R\n",
    "3. SQL\n",
    "4. Julia\n",
    "5. Scala\n",
    "6. Java\n",
    "7. C++"
   ]
  },
  {
   "cell_type": "markdown",
   "id": "3fefa0c3-b463-41e5-9158-1279b842a47b",
   "metadata": {},
   "source": [
    "## Some of the commonly used libraries used by Data Scientists include:\n",
    "1. Scikit-learn\n",
    "2. Pandas\n",
    "3. Numpy\n",
    "4. Matplotlib\n",
    "5. TensorFlow\n",
    "6. PyTorch"
   ]
  },
  {
   "cell_type": "markdown",
   "id": "27da2d1d-9d6a-4c12-8a52-d28b75fc11c9",
   "metadata": {},
   "source": [
    "|Data Science Tools|\n",
    "|------------------|\n",
    "| Jupyter Lab |\n",
    "| RStudio |\n",
    "| Apache Spark |"
   ]
  },
  {
   "cell_type": "markdown",
   "id": "d280837e-829e-4c0b-aa57-6e7b50fb414f",
   "metadata": {},
   "source": [
    "### Look down to see a few examples of evaluating arithmetic expressions in Python:"
   ]
  },
  {
   "cell_type": "code",
   "execution_count": 3,
   "id": "ff29927b-59b1-4320-81d9-35510930bb4c",
   "metadata": {},
   "outputs": [
    {
     "data": {
      "text/plain": [
       "17"
      ]
     },
     "execution_count": 3,
     "metadata": {},
     "output_type": "execute_result"
    }
   ],
   "source": [
    "# Multiplies two integers, then adds an integer\n",
    "(3*4)+5"
   ]
  },
  {
   "cell_type": "code",
   "execution_count": 4,
   "id": "0c1b19de-0aab-4c50-b0f8-4fb9194458ef",
   "metadata": {},
   "outputs": [
    {
     "data": {
      "text/plain": [
       "3.3333333333333335"
      ]
     },
     "execution_count": 4,
     "metadata": {},
     "output_type": "execute_result"
    }
   ],
   "source": [
    "# Converts 200 minutes into hours, by dividing by 60\n",
    "200 / 60"
   ]
  },
  {
   "cell_type": "markdown",
   "id": "c854b5e8-d3c5-4dd1-9e4e-2e965d0a6186",
   "metadata": {},
   "source": [
    "## Author \n",
    "Lucas Hoff Schmidt"
   ]
  },
  {
   "cell_type": "code",
   "execution_count": null,
   "id": "8cf5dfe5-6efe-4f21-9bcd-15ce39d7236d",
   "metadata": {},
   "outputs": [],
   "source": []
  }
 ],
 "metadata": {
  "kernelspec": {
   "display_name": "Python 3 (ipykernel)",
   "language": "python",
   "name": "python3"
  },
  "language_info": {
   "codemirror_mode": {
    "name": "ipython",
    "version": 3
   },
   "file_extension": ".py",
   "mimetype": "text/x-python",
   "name": "python",
   "nbconvert_exporter": "python",
   "pygments_lexer": "ipython3",
   "version": "3.12.8"
  }
 },
 "nbformat": 4,
 "nbformat_minor": 5
}
